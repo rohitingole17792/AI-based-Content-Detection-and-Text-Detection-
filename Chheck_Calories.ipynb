{
  "nbformat": 4,
  "nbformat_minor": 0,
  "metadata": {
    "colab": {
      "provenance": [],
      "authorship_tag": "ABX9TyP3RHi9TmQrTHddN8tDAYuv",
      "include_colab_link": true
    },
    "kernelspec": {
      "name": "python3",
      "display_name": "Python 3"
    },
    "language_info": {
      "name": "python"
    }
  },
  "cells": [
    {
      "cell_type": "markdown",
      "metadata": {
        "id": "view-in-github",
        "colab_type": "text"
      },
      "source": [
        "<a href=\"https://colab.research.google.com/github/rohitingole17792/AI-based-Content-Detection-and-Text-Detection-/blob/main/Chheck_Calories.ipynb\" target=\"_parent\"><img src=\"https://colab.research.google.com/assets/colab-badge.svg\" alt=\"Open In Colab\"/></a>"
      ]
    },
    {
      "cell_type": "code",
      "source": [
        "import pandas as pd\n",
        "import numpy as np"
      ],
      "metadata": {
        "id": "Vx2utnuF1JCC"
      },
      "execution_count": 1,
      "outputs": []
    },
    {
      "cell_type": "code",
      "source": [
        "# Create sample data\n",
        "Hours = [1.0, 2.0, 2.5, 3.0, 3.5, 4.0, 5.0, 5.5, 6.0, 6.5]\n",
        "Calories = [2500, 2000, 1900, 1850, 1600, 1500, 1500, 1600, 1700, 1500]"
      ],
      "metadata": {
        "id": "g27y9uMk1XrB"
      },
      "execution_count": 2,
      "outputs": []
    },
    {
      "cell_type": "code",
      "source": [
        "# Combine data into DataFrame\n",
        "GymData = pd.DataFrame({'Hours': Hours, 'Calories': Calories})"
      ],
      "metadata": {
        "id": "ylrKx4QG1aLD"
      },
      "execution_count": 3,
      "outputs": []
    },
    {
      "cell_type": "code",
      "source": [
        "# Split data into training and testing sets (70% for training)\n",
        "TrainingSampleIndex = np.random.choice(GymData.index, size=int(0.7 * len(GymData)), replace=False)\n",
        "DataForMLTrain = GymData.loc[TrainingSampleIndex]\n",
        "DataForMLTest = GymData.drop(TrainingSampleIndex)"
      ],
      "metadata": {
        "id": "QDSbEdLq1lk8"
      },
      "execution_count": 4,
      "outputs": []
    },
    {
      "cell_type": "code",
      "source": [
        "# Function to train a linear regression model (replace with your preferred model)\n",
        "def train_model(data):\n",
        "  X_train = data[['Hours']]  # Select 'Hours' as feature\n",
        "  y_train = data['Calories']  # Target variable\n",
        "  from sklearn.linear_model import LinearRegression\n",
        "  model = LinearRegression()\n",
        "  model.fit(X_train, y_train)\n",
        "  return model"
      ],
      "metadata": {
        "id": "CDJehMof1sr9"
      },
      "execution_count": 5,
      "outputs": []
    },
    {
      "cell_type": "code",
      "source": [
        "# Train the model on training data\n",
        "model = train_model(DataForMLTrain.copy())  # Copy to avoid modifying original data\n"
      ],
      "metadata": {
        "id": "ntNdaNSq1wNS"
      },
      "execution_count": 6,
      "outputs": []
    },
    {
      "cell_type": "code",
      "source": [
        "# **Method 1: Visualization (Scatter Plot)**\n",
        "import matplotlib.pyplot as plt\n",
        "\n",
        "plt.figure(figsize=(8, 6))\n",
        "plt.scatter(GymData['Hours'], GymData['Calories'], color='blue')\n",
        "plt.xlabel('Hours Exercised')\n",
        "plt.ylabel('Calories Burned')\n",
        "plt.title('Calories Burned vs. Hours Exercised')\n",
        "plt.grid(True)\n",
        "plt.show()"
      ],
      "metadata": {
        "colab": {
          "base_uri": "https://localhost:8080/",
          "height": 564
        },
        "id": "QWRJ-opA17b1",
        "outputId": "a8285d26-fdb2-4e31-ad21-d6d71a8ab110"
      },
      "execution_count": 7,
      "outputs": [
        {
          "output_type": "display_data",
          "data": {
            "text/plain": [
              "<Figure size 800x600 with 1 Axes>"
            ],
            "image/png": "[encoded data removed]"
          },
          "metadata": {}
        }
      ]
    },
    {
      "cell_type": "code",
      "source": [
        "# **Method 2: Using Trained Model (already shown above)**\n",
        "# Check calories burned for new data point (3.7 hours)\n",
        "new_data = pd.DataFrame({'Hours': [3.7]})\n",
        "predicted_calories = model.predict(new_data)[0]  # Get the first prediction"
      ],
      "metadata": {
        "id": "LLrQvJdL1_bz"
      },
      "execution_count": 8,
      "outputs": []
    },
    {
      "cell_type": "code",
      "execution_count": 9,
      "metadata": {
        "colab": {
          "base_uri": "https://localhost:8080/"
        },
        "id": "mbc3Xptc1CKO",
        "outputId": "d817f8ea-fa16-4559-98cc-76702bef9b77"
      },
      "outputs": [
        {
          "output_type": "stream",
          "name": "stdout",
          "text": [
            "Predicted calories burned for 3.7 hours: 1808.77\n"
          ]
        }
      ],
      "source": [
        "# Print the result\n",
        "print(f\"Predicted calories burned for 3.7 hours: {predicted_calories:.2f}\")\n"
      ]
    },
    {
      "cell_type": "code",
      "source": [
        "new_data = pd.DataFrame({'Hours': [4.7]})\n",
        "predicted_calories = model.predict(new_data)[0]"
      ],
      "metadata": {
        "id": "5o_wwnw12Bwe"
      },
      "execution_count": 10,
      "outputs": []
    },
    {
      "cell_type": "code",
      "source": [
        "# Print the result\n",
        "print(f\"Predicted calories burned for 4.7 hours: {predicted_calories:.2f}\")"
      ],
      "metadata": {
        "colab": {
          "base_uri": "https://localhost:8080/"
        },
        "id": "iXI-lfN553_i",
        "outputId": "0e9cc1be-5c0e-4fee-fe8d-23089bf70c61"
      },
      "execution_count": 11,
      "outputs": [
        {
          "output_type": "stream",
          "name": "stdout",
          "text": [
            "Predicted calories burned for 4.7 hours: 1656.89\n"
          ]
        }
      ]
    },
    {
      "cell_type": "code",
      "source": [],
      "metadata": {
        "id": "-za1bNCy56JC"
      },
      "execution_count": 11,
      "outputs": []
    }
  ]
}