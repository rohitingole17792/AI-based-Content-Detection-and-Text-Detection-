{
  "nbformat": 4,
  "nbformat_minor": 0,
  "metadata": {
    "colab": {
      "provenance": [],
      "include_colab_link": true
    },
    "kernelspec": {
      "name": "python3",
      "display_name": "Python 3"
    },
    "language_info": {
      "name": "python"
    }
  },
  "cells": [
    {
      "cell_type": "markdown",
      "metadata": {
        "id": "view-in-github",
        "colab_type": "text"
      },
      "source": [
        "<a href=\"https://colab.research.google.com/github/rohitingole17792/AI-based-Content-Detection-and-Text-Detection-/blob/main/Hypothesis.ipynb\" target=\"_parent\"><img src=\"https://colab.research.google.com/assets/colab-badge.svg\" alt=\"Open In Colab\"/></a>"
      ]
    },
    {
      "cell_type": "code",
      "execution_count": null,
      "metadata": {
        "id": "KzbcZRcQNyL_"
      },
      "outputs": [],
      "source": [
        "import pandas as pd\n",
        "import numpy as np\n",
        "import matplotlib\n",
        "matplotlib.use('Agg') # workaround, there may be a better way\n",
        "import seaborn as sns\n",
        "%matplotlib inline\n",
        "import matplotlib.pyplot as plt\n",
        "import statsmodels.api as sm\n",
        "import scipy.stats.distributions as dist"
      ]
    },
    {
      "cell_type": "code",
      "source": [
        "data=pd.read_csv('/content/NHANES.csv')\n",
        "data.head()"
      ],
      "metadata": {
        "colab": {
          "base_uri": "https://localhost:8080/",
          "height": 299
        },
        "id": "eh8IitS_Znk1",
        "outputId": "1f48af38-27af-4cf3-e7b0-185f713567d1"
      },
      "execution_count": null,
      "outputs": [
        {
          "output_type": "execute_result",
          "data": {
            "text/plain": [
              "    SEQN  ALQ101  ALQ110  ALQ130  SMQ020  RIAGENDR  RIDAGEYR  RIDRETH1  \\\n",
              "0  83732     1.0     NaN     1.0       1         1        62         3   \n",
              "1  83733     1.0     NaN     6.0       1         1        53         3   \n",
              "2  83734     1.0     NaN     NaN       1         1        78         3   \n",
              "3  83735     2.0     1.0     1.0       2         2        56         3   \n",
              "4  83736     2.0     1.0     1.0       2         2        42         4   \n",
              "\n",
              "   DMDCITZN  DMDEDUC2  ...  BPXSY2  BPXDI2  BMXWT  BMXHT  BMXBMI  BMXLEG  \\\n",
              "0       1.0       5.0  ...   124.0    64.0   94.8  184.5    27.8    43.3   \n",
              "1       2.0       3.0  ...   140.0    88.0   90.4  171.4    30.8    38.0   \n",
              "2       1.0       3.0  ...   132.0    44.0   83.4  170.1    28.8    35.6   \n",
              "3       1.0       5.0  ...   134.0    68.0  109.8  160.9    42.4    38.5   \n",
              "4       1.0       4.0  ...   114.0    54.0   55.2  164.9    20.3    37.4   \n",
              "\n",
              "   BMXARML  BMXARMC  BMXWAIST  HIQ210  \n",
              "0     43.6     35.9     101.1     2.0  \n",
              "1     40.0     33.2     107.9     NaN  \n",
              "2     37.0     31.0     116.5     2.0  \n",
              "3     37.7     38.3     110.1     2.0  \n",
              "4     36.0     27.2      80.4     2.0  \n",
              "\n",
              "[5 rows x 28 columns]"
            ],
            "text/html": [
              "\n",
              "\n",
              "  <div id=\"df-a68732e1-efb4-4205-ac01-ef55de985a52\">\n",
              "    <div class=\"colab-df-container\">\n",
              "      <div>\n",
              "<style scoped>\n",
              "    .dataframe tbody tr th:only-of-type {\n",
              "        vertical-align: middle;\n",
              "    }\n",
              "\n",
              "    .dataframe tbody tr th {\n",
              "        vertical-align: top;\n",
              "    }\n",
              "\n",
              "    .dataframe thead th {\n",
              "        text-align: right;\n",
              "    }\n",
              "</style>\n",
              "<table border=\"1\" class=\"dataframe\">\n",
              "  <thead>\n",
              "    <tr style=\"text-align: right;\">\n",
              "      <th></th>\n",
              "      <th>SEQN</th>\n",
              "      <th>ALQ101</th>\n",
              "      <th>ALQ110</th>\n",
              "      <th>ALQ130</th>\n",
              "      <th>SMQ020</th>\n",
              "      <th>RIAGENDR</th>\n",
              "      <th>RIDAGEYR</th>\n",
              "      <th>RIDRETH1</th>\n",
              "      <th>DMDCITZN</th>\n",
              "      <th>DMDEDUC2</th>\n",
              "      <th>...</th>\n",
              "      <th>BPXSY2</th>\n",
              "      <th>BPXDI2</th>\n",
              "      <th>BMXWT</th>\n",
              "      <th>BMXHT</th>\n",
              "      <th>BMXBMI</th>\n",
              "      <th>BMXLEG</th>\n",
              "      <th>BMXARML</th>\n",
              "      <th>BMXARMC</th>\n",
              "      <th>BMXWAIST</th>\n",
              "      <th>HIQ210</th>\n",
              "    </tr>\n",
              "  </thead>\n",
              "  <tbody>\n",
              "    <tr>\n",
              "      <th>0</th>\n",
              "      <td>83732</td>\n",
              "      <td>1.0</td>\n",
              "      <td>NaN</td>\n",
              "      <td>1.0</td>\n",
              "      <td>1</td>\n",
              "      <td>1</td>\n",
              "      <td>62</td>\n",
              "      <td>3</td>\n",
              "      <td>1.0</td>\n",
              "      <td>5.0</td>\n",
              "      <td>...</td>\n",
              "      <td>124.0</td>\n",
              "      <td>64.0</td>\n",
              "      <td>94.8</td>\n",
              "      <td>184.5</td>\n",
              "      <td>27.8</td>\n",
              "      <td>43.3</td>\n",
              "      <td>43.6</td>\n",
              "      <td>35.9</td>\n",
              "      <td>101.1</td>\n",
              "      <td>2.0</td>\n",
              "    </tr>\n",
              "    <tr>\n",
              "      <th>1</th>\n",
              "      <td>83733</td>\n",
              "      <td>1.0</td>\n",
              "      <td>NaN</td>\n",
              "      <td>6.0</td>\n",
              "      <td>1</td>\n",
              "      <td>1</td>\n",
              "      <td>53</td>\n",
              "      <td>3</td>\n",
              "      <td>2.0</td>\n",
              "      <td>3.0</td>\n",
              "      <td>...</td>\n",
              "      <td>140.0</td>\n",
              "      <td>88.0</td>\n",
              "      <td>90.4</td>\n",
              "      <td>171.4</td>\n",
              "      <td>30.8</td>\n",
              "      <td>38.0</td>\n",
              "      <td>40.0</td>\n",
              "      <td>33.2</td>\n",
              "      <td>107.9</td>\n",
              "      <td>NaN</td>\n",
              "    </tr>\n",
              "    <tr>\n",
              "      <th>2</th>\n",
              "      <td>83734</td>\n",
              "      <td>1.0</td>\n",
              "      <td>NaN</td>\n",
              "      <td>NaN</td>\n",
              "      <td>1</td>\n",
              "      <td>1</td>\n",
              "      <td>78</td>\n",
              "      <td>3</td>\n",
              "      <td>1.0</td>\n",
              "      <td>3.0</td>\n",
              "      <td>...</td>\n",
              "      <td>132.0</td>\n",
              "      <td>44.0</td>\n",
              "      <td>83.4</td>\n",
              "      <td>170.1</td>\n",
              "      <td>28.8</td>\n",
              "      <td>35.6</td>\n",
              "      <td>37.0</td>\n",
              "      <td>31.0</td>\n",
              "      <td>116.5</td>\n",
              "      <td>2.0</td>\n",
              "    </tr>\n",
              "    <tr>\n",
              "      <th>3</th>\n",
              "      <td>83735</td>\n",
              "      <td>2.0</td>\n",
              "      <td>1.0</td>\n",
              "      <td>1.0</td>\n",
              "      <td>2</td>\n",
              "      <td>2</td>\n",
              "      <td>56</td>\n",
              "      <td>3</td>\n",
              "      <td>1.0</td>\n",
              "      <td>5.0</td>\n",
              "      <td>...</td>\n",
              "      <td>134.0</td>\n",
              "      <td>68.0</td>\n",
              "      <td>109.8</td>\n",
              "      <td>160.9</td>\n",
              "      <td>42.4</td>\n",
              "      <td>38.5</td>\n",
              "      <td>37.7</td>\n",
              "      <td>38.3</td>\n",
              "      <td>110.1</td>\n",
              "      <td>2.0</td>\n",
              "    </tr>\n",
              "    <tr>\n",
              "      <th>4</th>\n",
              "      <td>83736</td>\n",
              "      <td>2.0</td>\n",
              "      <td>1.0</td>\n",
              "      <td>1.0</td>\n",
              "      <td>2</td>\n",
              "      <td>2</td>\n",
              "      <td>42</td>\n",
              "      <td>4</td>\n",
              "      <td>1.0</td>\n",
              "      <td>4.0</td>\n",
              "      <td>...</td>\n",
              "      <td>114.0</td>\n",
              "      <td>54.0</td>\n",
              "      <td>55.2</td>\n",
              "      <td>164.9</td>\n",
              "      <td>20.3</td>\n",
              "      <td>37.4</td>\n",
              "      <td>36.0</td>\n",
              "      <td>27.2</td>\n",
              "      <td>80.4</td>\n",
              "      <td>2.0</td>\n",
              "    </tr>\n",
              "  </tbody>\n",
              "</table>\n",
              "<p>5 rows × 28 columns</p>\n",
              "</div>\n",
              "      <button class=\"colab-df-convert\" onclick=\"convertToInteractive('df-a68732e1-efb4-4205-ac01-ef55de985a52')\"\n",
              "              title=\"Convert this dataframe to an interactive table.\"\n",
              "              style=\"display:none;\">\n",
              "\n",
              "  <svg xmlns=\"http://www.w3.org/2000/svg\" height=\"24px\"viewBox=\"0 0 24 24\"\n",
              "       width=\"24px\">\n",
              "    <path d=\"M0 0h24v24H0V0z\" fill=\"none\"/>\n",
              "    <path d=\"M18.56 5.44l.94 2.06.94-2.06 2.06-.94-2.06-.94-.94-2.06-.94 2.06-2.06.94zm-11 1L8.5 8.5l.94-2.06 2.06-.94-2.06-.94L8.5 2.5l-.94 2.06-2.06.94zm10 10l.94 2.06.94-2.06 2.06-.94-2.06-.94-.94-2.06-.94 2.06-2.06.94z\"/><path d=\"M17.41 7.96l-1.37-1.37c-.4-.4-.92-.59-1.43-.59-.52 0-1.04.2-1.43.59L10.3 9.45l-7.72 7.72c-.78.78-.78 2.05 0 2.83L4 21.41c.39.39.9.59 1.41.59.51 0 1.02-.2 1.41-.59l7.78-7.78 2.81-2.81c.8-.78.8-2.07 0-2.86zM5.41 20L4 18.59l7.72-7.72 1.47 1.35L5.41 20z\"/>\n",
              "  </svg>\n",
              "      </button>\n",
              "\n",
              "\n",
              "\n",
              "    <div id=\"df-b3b7360d-148c-459e-927b-07f6e4061c6b\">\n",
              "      <button class=\"colab-df-quickchart\" onclick=\"quickchart('df-b3b7360d-148c-459e-927b-07f6e4061c6b')\"\n",
              "              title=\"Suggest charts.\"\n",
              "              style=\"display:none;\">\n",
              "\n",
              "<svg xmlns=\"http://www.w3.org/2000/svg\" height=\"24px\"viewBox=\"0 0 24 24\"\n",
              "     width=\"24px\">\n",
              "    <g>\n",
              "        <path d=\"M19 3H5c-1.1 0-2 .9-2 2v14c0 1.1.9 2 2 2h14c1.1 0 2-.9 2-2V5c0-1.1-.9-2-2-2zM9 17H7v-7h2v7zm4 0h-2V7h2v10zm4 0h-2v-4h2v4z\"/>\n",
              "    </g>\n",
              "</svg>\n",
              "      </button>\n",
              "    </div>\n",
              "\n",
              "<style>\n",
              "  .colab-df-quickchart {\n",
              "    background-color: #E8F0FE;\n",
              "    border: none;\n",
              "    border-radius: 50%;\n",
              "    cursor: pointer;\n",
              "    display: none;\n",
              "    fill: #1967D2;\n",
              "    height: 32px;\n",
              "    padding: 0 0 0 0;\n",
              "    width: 32px;\n",
              "  }\n",
              "\n",
              "  .colab-df-quickchart:hover {\n",
              "    background-color: #E2EBFA;\n",
              "    box-shadow: 0px 1px 2px rgba(60, 64, 67, 0.3), 0px 1px 3px 1px rgba(60, 64, 67, 0.15);\n",
              "    fill: #174EA6;\n",
              "  }\n",
              "\n",
              "  [theme=dark] .colab-df-quickchart {\n",
              "    background-color: #3B4455;\n",
              "    fill: #D2E3FC;\n",
              "  }\n",
              "\n",
              "  [theme=dark] .colab-df-quickchart:hover {\n",
              "    background-color: #434B5C;\n",
              "    box-shadow: 0px 1px 3px 1px rgba(0, 0, 0, 0.15);\n",
              "    filter: drop-shadow(0px 1px 2px rgba(0, 0, 0, 0.3));\n",
              "    fill: #FFFFFF;\n",
              "  }\n",
              "</style>\n",
              "\n",
              "    <script>\n",
              "      async function quickchart(key) {\n",
              "        const containerElement = document.querySelector('#' + key);\n",
              "        const charts = await google.colab.kernel.invokeFunction(\n",
              "            'suggestCharts', [key], {});\n",
              "      }\n",
              "    </script>\n",
              "\n",
              "      <script>\n",
              "\n",
              "function displayQuickchartButton(domScope) {\n",
              "  let quickchartButtonEl =\n",
              "    domScope.querySelector('#df-b3b7360d-148c-459e-927b-07f6e4061c6b button.colab-df-quickchart');\n",
              "  quickchartButtonEl.style.display =\n",
              "    google.colab.kernel.accessAllowed ? 'block' : 'none';\n",
              "}\n",
              "\n",
              "        displayQuickchartButton(document);\n",
              "      </script>\n",
              "      <style>\n",
              "    .colab-df-container {\n",
              "      display:flex;\n",
              "      flex-wrap:wrap;\n",
              "      gap: 12px;\n",
              "    }\n",
              "\n",
              "    .colab-df-convert {\n",
              "      background-color: #E8F0FE;\n",
              "      border: none;\n",
              "      border-radius: 50%;\n",
              "      cursor: pointer;\n",
              "      display: none;\n",
              "      fill: #1967D2;\n",
              "      height: 32px;\n",
              "      padding: 0 0 0 0;\n",
              "      width: 32px;\n",
              "    }\n",
              "\n",
              "    .colab-df-convert:hover {\n",
              "      background-color: #E2EBFA;\n",
              "      box-shadow: 0px 1px 2px rgba(60, 64, 67, 0.3), 0px 1px 3px 1px rgba(60, 64, 67, 0.15);\n",
              "      fill: #174EA6;\n",
              "    }\n",
              "\n",
              "    [theme=dark] .colab-df-convert {\n",
              "      background-color: #3B4455;\n",
              "      fill: #D2E3FC;\n",
              "    }\n",
              "\n",
              "    [theme=dark] .colab-df-convert:hover {\n",
              "      background-color: #434B5C;\n",
              "      box-shadow: 0px 1px 3px 1px rgba(0, 0, 0, 0.15);\n",
              "      filter: drop-shadow(0px 1px 2px rgba(0, 0, 0, 0.3));\n",
              "      fill: #FFFFFF;\n",
              "    }\n",
              "  </style>\n",
              "\n",
              "      <script>\n",
              "        const buttonEl =\n",
              "          document.querySelector('#df-a68732e1-efb4-4205-ac01-ef55de985a52 button.colab-df-convert');\n",
              "        buttonEl.style.display =\n",
              "          google.colab.kernel.accessAllowed ? 'block' : 'none';\n",
              "\n",
              "        async function convertToInteractive(key) {\n",
              "          const element = document.querySelector('#df-a68732e1-efb4-4205-ac01-ef55de985a52');\n",
              "          const dataTable =\n",
              "            await google.colab.kernel.invokeFunction('convertToInteractive',\n",
              "                                                     [key], {});\n",
              "          if (!dataTable) return;\n",
              "\n",
              "          const docLinkHtml = 'Like what you see? Visit the ' +\n",
              "            '<a target=\"_blank\" href=https://colab.research.google.com/notebooks/data_table.ipynb>data table notebook</a>'\n",
              "            + ' to learn more about interactive tables.';\n",
              "          element.innerHTML = '';\n",
              "          dataTable['output_type'] = 'display_data';\n",
              "          await google.colab.output.renderOutput(dataTable, element);\n",
              "          const docLink = document.createElement('div');\n",
              "          docLink.innerHTML = docLinkHtml;\n",
              "          element.appendChild(docLink);\n",
              "        }\n",
              "      </script>\n",
              "    </div>\n",
              "  </div>\n"
            ]
          },
          "metadata": {},
          "execution_count": 3
        }
      ]
    },
    {
      "cell_type": "code",
      "source": [
        "data.isnull().sum()"
      ],
      "metadata": {
        "id": "hmubYoCPe5t3",
        "outputId": "8a179b3f-25e0-47b6-9653-a5a6c7f09960",
        "colab": {
          "base_uri": "https://localhost:8080/"
        }
      },
      "execution_count": null,
      "outputs": [
        {
          "output_type": "execute_result",
          "data": {
            "text/plain": [
              "SEQN           0\n",
              "ALQ101       527\n",
              "ALQ110      4004\n",
              "ALQ130      2356\n",
              "SMQ020         0\n",
              "RIAGENDR       0\n",
              "RIDAGEYR       0\n",
              "RIDRETH1       0\n",
              "DMDCITZN       1\n",
              "DMDEDUC2     261\n",
              "DMDMARTL     261\n",
              "DMDHHSIZ       0\n",
              "WTINT2YR       0\n",
              "SDMVPSU        0\n",
              "SDMVSTRA       0\n",
              "INDFMPIR     601\n",
              "BPXSY1       334\n",
              "BPXDI1       334\n",
              "BPXSY2       200\n",
              "BPXDI2       200\n",
              "BMXWT         69\n",
              "BMXHT         62\n",
              "BMXBMI        73\n",
              "BMXLEG       390\n",
              "BMXARML      308\n",
              "BMXARMC      308\n",
              "BMXWAIST     367\n",
              "HIQ210      1003\n",
              "dtype: int64"
            ]
          },
          "metadata": {},
          "execution_count": 11
        }
      ]
    },
    {
      "cell_type": "code",
      "source": [
        " data.info()"
      ],
      "metadata": {
        "colab": {
          "base_uri": "https://localhost:8080/"
        },
        "id": "f0emvpb2SgL3",
        "outputId": "c6c29582-0a79-4a20-a01b-32decc4f10f6"
      },
      "execution_count": null,
      "outputs": [
        {
          "output_type": "stream",
          "name": "stdout",
          "text": [
            "<class 'pandas.core.frame.DataFrame'>\n",
            "RangeIndex: 5735 entries, 0 to 5734\n",
            "Data columns (total 28 columns):\n",
            " #   Column    Non-Null Count  Dtype  \n",
            "---  ------    --------------  -----  \n",
            " 0   SEQN      5735 non-null   int64  \n",
            " 1   ALQ101    5208 non-null   float64\n",
            " 2   ALQ110    1731 non-null   float64\n",
            " 3   ALQ130    3379 non-null   float64\n",
            " 4   SMQ020    5735 non-null   int64  \n",
            " 5   RIAGENDR  5735 non-null   int64  \n",
            " 6   RIDAGEYR  5735 non-null   int64  \n",
            " 7   RIDRETH1  5735 non-null   int64  \n",
            " 8   DMDCITZN  5734 non-null   float64\n",
            " 9   DMDEDUC2  5474 non-null   float64\n",
            " 10  DMDMARTL  5474 non-null   float64\n",
            " 11  DMDHHSIZ  5735 non-null   int64  \n",
            " 12  WTINT2YR  5735 non-null   float64\n",
            " 13  SDMVPSU   5735 non-null   int64  \n",
            " 14  SDMVSTRA  5735 non-null   int64  \n",
            " 15  INDFMPIR  5134 non-null   float64\n",
            " 16  BPXSY1    5401 non-null   float64\n",
            " 17  BPXDI1    5401 non-null   float64\n",
            " 18  BPXSY2    5535 non-null   float64\n",
            " 19  BPXDI2    5535 non-null   float64\n",
            " 20  BMXWT     5666 non-null   float64\n",
            " 21  BMXHT     5673 non-null   float64\n",
            " 22  BMXBMI    5662 non-null   float64\n",
            " 23  BMXLEG    5345 non-null   float64\n",
            " 24  BMXARML   5427 non-null   float64\n",
            " 25  BMXARMC   5427 non-null   float64\n",
            " 26  BMXWAIST  5368 non-null   float64\n",
            " 27  HIQ210    4732 non-null   float64\n",
            "dtypes: float64(20), int64(8)\n",
            "memory usage: 1.2 MB\n"
          ]
        }
      ]
    },
    {
      "cell_type": "code",
      "source": [
        "print(data.columns.values)"
      ],
      "metadata": {
        "colab": {
          "base_uri": "https://localhost:8080/"
        },
        "id": "XbmpUBfdaKHP",
        "outputId": "0ff9e8e3-7237-457b-c2dc-e225ff8fd910"
      },
      "execution_count": null,
      "outputs": [
        {
          "output_type": "stream",
          "name": "stdout",
          "text": [
            "['SEQN' 'ALQ101' 'ALQ110' 'ALQ130' 'SMQ020' 'RIAGENDR' 'RIDAGEYR'\n",
            " 'RIDRETH1' 'DMDCITZN' 'DMDEDUC2' 'DMDMARTL' 'DMDHHSIZ' 'WTINT2YR'\n",
            " 'SDMVPSU' 'SDMVSTRA' 'INDFMPIR' 'BPXSY1' 'BPXDI1' 'BPXSY2' 'BPXDI2'\n",
            " 'BMXWT' 'BMXHT' 'BMXBMI' 'BMXLEG' 'BMXARML' 'BMXARMC' 'BMXWAIST' 'HIQ210']\n"
          ]
        }
      ]
    },
    {
      "cell_type": "code",
      "source": [
        "data[\"SMQ020x\"] = data.SMQ020.replace({1: \"Yes\", 2: \"No\", 7: np.nan, 9: np.nan})\n",
        "data[\"RIAGENDRx\"] = data.RIAGENDR.replace({1: \"Male\", 2: \"Female\"})\n",
        "data[\"RIAGENDRx\"].head()"
      ],
      "metadata": {
        "colab": {
          "base_uri": "https://localhost:8080/"
        },
        "id": "hHgQDkqJZzjF",
        "outputId": "31d25f76-e921-4175-985e-f8dfbb9b10b5"
      },
      "execution_count": null,
      "outputs": [
        {
          "output_type": "execute_result",
          "data": {
            "text/plain": [
              "0      Male\n",
              "1      Male\n",
              "2      Male\n",
              "3    Female\n",
              "4    Female\n",
              "Name: RIAGENDRx, dtype: object"
            ]
          },
          "metadata": {},
          "execution_count": 10
        }
      ]
    },
    {
      "cell_type": "code",
      "source": [
        "x = data.SMQ020x.dropna() == \"Yes\""
      ],
      "metadata": {
        "id": "T-FeQaRiaACR"
      },
      "execution_count": null,
      "outputs": []
    },
    {
      "cell_type": "code",
      "source": [
        "p = x.mean()"
      ],
      "metadata": {
        "id": "nmLrynMBa-Id"
      },
      "execution_count": null,
      "outputs": []
    },
    {
      "cell_type": "code",
      "source": [
        "p"
      ],
      "metadata": {
        "colab": {
          "base_uri": "https://localhost:8080/"
        },
        "id": "YZTQgUyRbBlx",
        "outputId": "5862b0b3-cf7f-4d37-fb43-f597f12e1f61"
      },
      "execution_count": null,
      "outputs": [
        {
          "output_type": "execute_result",
          "data": {
            "text/plain": [
              "0.4050655021834061"
            ]
          },
          "metadata": {},
          "execution_count": 13
        }
      ]
    },
    {
      "cell_type": "code",
      "source": [
        "Standard_error=np.sqrt(.4 * (1 - .4)/ len(x))"
      ],
      "metadata": {
        "id": "nqwV40BBbCDm"
      },
      "execution_count": null,
      "outputs": []
    },
    {
      "cell_type": "code",
      "source": [
        "Standard_error"
      ],
      "metadata": {
        "colab": {
          "base_uri": "https://localhost:8080/"
        },
        "id": "t6__1HobbGPj",
        "outputId": "d3c07697-b19c-4ab6-c52c-61d9099fb499"
      },
      "execution_count": null,
      "outputs": [
        {
          "output_type": "execute_result",
          "data": {
            "text/plain": [
              "0.00647467353462031"
            ]
          },
          "metadata": {},
          "execution_count": 15
        }
      ]
    },
    {
      "cell_type": "code",
      "source": [
        "test_statistic = (p - 0.4) / Standard_error\n",
        "test_statistic"
      ],
      "metadata": {
        "colab": {
          "base_uri": "https://localhost:8080/"
        },
        "id": "B2XcLKLHbJVn",
        "outputId": "dc6c713b-37a5-425c-8830-4af60983b957"
      },
      "execution_count": null,
      "outputs": [
        {
          "output_type": "execute_result",
          "data": {
            "text/plain": [
              "0.7823563854332805"
            ]
          },
          "metadata": {},
          "execution_count": 16
        }
      ]
    },
    {
      "cell_type": "code",
      "source": [
        "pvalue = 2 * dist.norm.cdf(-np.abs(test_statistic))\n",
        "print(test_statistic, pvalue)"
      ],
      "metadata": {
        "colab": {
          "base_uri": "https://localhost:8080/"
        },
        "id": "hl8r0wIqbLIY",
        "outputId": "ecf86770-f00d-4c55-96ba-75f8ea62a41f"
      },
      "execution_count": null,
      "outputs": [
        {
          "output_type": "stream",
          "name": "stdout",
          "text": [
            "0.7823563854332805 0.4340051581348052\n"
          ]
        }
      ]
    },
    {
      "cell_type": "code",
      "source": [
        "sm.stats.proportions_ztest(x.sum(), len(x), 0.4)"
      ],
      "metadata": {
        "colab": {
          "base_uri": "https://localhost:8080/"
        },
        "id": "AmjVmWVKbNoa",
        "outputId": "4fb45fcd-9ab8-4421-b734-a39bf32069fa"
      },
      "execution_count": null,
      "outputs": [
        {
          "output_type": "execute_result",
          "data": {
            "text/plain": [
              "(0.7807518954896244, 0.43494843171868214)"
            ]
          },
          "metadata": {},
          "execution_count": 18
        }
      ]
    },
    {
      "cell_type": "code",
      "source": [
        "sm.stats.binom_test(x.sum(), len(x), 0.4)"
      ],
      "metadata": {
        "colab": {
          "base_uri": "https://localhost:8080/"
        },
        "id": "cCr-blONbeQY",
        "outputId": "bc02ae0c-5370-4b4d-b345-ede78a854de7"
      },
      "execution_count": null,
      "outputs": [
        {
          "output_type": "execute_result",
          "data": {
            "text/plain": [
              "0.43403608544100336"
            ]
          },
          "metadata": {},
          "execution_count": 19
        }
      ]
    },
    {
      "cell_type": "code",
      "source": [
        "dx = data[[\"SMQ020x\", \"RIDAGEYR\", \"RIAGENDRx\"]].dropna()  # Drop missing values\n",
        "dx = dx.loc[(dx.RIDAGEYR >= 20) & (dx.RIDAGEYR <= 25), :] # Restrict to people between 20 and 25 years old"
      ],
      "metadata": {
        "id": "SkNHZIyEbf30"
      },
      "execution_count": null,
      "outputs": []
    },
    {
      "cell_type": "code",
      "source": [
        "# Summarize the data by caclculating the proportion of yes responses and the sample size\n",
        "p = dx.groupby(\"RIAGENDRx\")[\"SMQ020x\"].agg([lambda z: np.mean(z==\"Yes\"), \"size\"])\n",
        "p.columns = [\"Smoke\", \"N\"]\n",
        "print(p)"
      ],
      "metadata": {
        "colab": {
          "base_uri": "https://localhost:8080/"
        },
        "id": "Egdy4ErMbi_X",
        "outputId": "839a7f15-b8e1-4220-df10-60f837547cfa"
      },
      "execution_count": null,
      "outputs": [
        {
          "output_type": "stream",
          "name": "stdout",
          "text": [
            "              Smoke    N\n",
            "RIAGENDRx               \n",
            "Female     0.238971  272\n",
            "Male       0.341270  252\n"
          ]
        }
      ]
    },
    {
      "cell_type": "code",
      "source": [
        "# The pooled rate of yes responses, and the standard error of the estimated difference of proportions\n",
        "p_comb = (dx.SMQ020x == \"Yes\").mean()\n",
        "va = p_comb * (1 - p_comb)\n",
        "se = np.sqrt(va * (1 / p.N.Female + 1 / p.N.Male))"
      ],
      "metadata": {
        "id": "AcQYbWQrblb5"
      },
      "execution_count": null,
      "outputs": []
    },
    {
      "cell_type": "code",
      "source": [
        "se# Calculate the test statistic and its p-value\n",
        "test_stat = (p.Smoke.Female - p.Smoke.Male) / se\n",
        "pvalue = 2*dist.norm.cdf(-np.abs(test_stat))\n",
        "print(test_stat, pvalue)"
      ],
      "metadata": {
        "colab": {
          "base_uri": "https://localhost:8080/"
        },
        "id": "RZ5d3XikboLj",
        "outputId": "8c622513-0027-4a1f-e17f-95f63b285da6"
      },
      "execution_count": null,
      "outputs": [
        {
          "output_type": "stream",
          "name": "stdout",
          "text": [
            "-2.5833303066279414 0.009785159057508375\n"
          ]
        }
      ]
    },
    {
      "cell_type": "code",
      "source": [
        "dx_females = dx.loc[dx.RIAGENDRx==\"Female\", \"SMQ020x\"].replace({\"Yes\": 1, \"No\": 0})\n",
        "dx_males = dx.loc[dx.RIAGENDRx==\"Male\", \"SMQ020x\"].replace({\"Yes\": 1, \"No\": 0})\n",
        "sm.stats.ttest_ind(dx_females, dx_males) # prints test statistic, p-value, degrees of freedom"
      ],
      "metadata": {
        "colab": {
          "base_uri": "https://localhost:8080/"
        },
        "id": "8UXeXvQNbr8G",
        "outputId": "715c7ba4-379c-484b-d674-4293c5c63f4e"
      },
      "execution_count": null,
      "outputs": [
        {
          "output_type": "execute_result",
          "data": {
            "text/plain": [
              "(-2.5949731446269344, 0.00972590232121254, 522.0)"
            ]
          },
          "metadata": {},
          "execution_count": 25
        }
      ]
    },
    {
      "cell_type": "code",
      "source": [
        "dx = data[[\"BPXSY1\", \"RIDAGEYR\", \"RIAGENDRx\"]].dropna()\n",
        "dx = dx.loc[(dx.RIDAGEYR >= 40) & (dx.RIDAGEYR <= 50) & (dx.RIAGENDRx == \"Male\"), :]\n",
        "print(len(dx))\n",
        "print(dx.BPXSY1.mean()) # prints mean blood pressure\n",
        "sm.stats.ztest(dx.BPXSY1, value=120)  # prints test statistic, p-value"
      ],
      "metadata": {
        "colab": {
          "base_uri": "https://localhost:8080/"
        },
        "id": "r92HUr7DbuVu",
        "outputId": "42b44532-8081-40f7-e282-b82158e060b7"
      },
      "execution_count": null,
      "outputs": [
        {
          "output_type": "stream",
          "name": "stdout",
          "text": [
            "421\n",
            "125.86698337292161\n"
          ]
        },
        {
          "output_type": "execute_result",
          "data": {
            "text/plain": [
              "(7.469764137102597, 8.033869113167905e-14)"
            ]
          },
          "metadata": {},
          "execution_count": 26
        }
      ]
    },
    {
      "cell_type": "code",
      "source": [
        "dx = data[[\"BPXSY1\", \"RIDAGEYR\", \"RIAGENDRx\"]].dropna()\n",
        "dx = dx.loc[(dx.RIDAGEYR >= 50) & (dx.RIDAGEYR <= 60), :]\n",
        "bpx_female = dx.loc[dx.RIAGENDRx==\"Female\", \"BPXSY1\"]\n",
        "bpx_male = dx.loc[dx.RIAGENDRx==\"Male\", \"BPXSY1\"]\n",
        "print(bpx_female.mean(), bpx_male.mean()) # prints female mean, male mean\n",
        "print(sm.stats.ztest(bpx_female, bpx_male)) # prints test statistic, p-value\n",
        "print(sm.stats.ttest_ind(bpx_female, bpx_male)) # prints test statistic, p-value, degrees of freedom"
      ],
      "metadata": {
        "colab": {
          "base_uri": "https://localhost:8080/"
        },
        "id": "o0DRtugebwZh",
        "outputId": "1e921170-4e72-453a-cf38-b33177638127"
      },
      "execution_count": null,
      "outputs": [
        {
          "output_type": "stream",
          "name": "stdout",
          "text": [
            "127.92561983471074 129.23829787234044\n",
            "(-1.105435895556249, 0.2689707570859362)\n",
            "(-1.105435895556249, 0.26925004137768577, 952.0)\n"
          ]
        }
      ]
    },
    {
      "cell_type": "code",
      "source": [
        "dx = data[[\"BMXBMI\", \"RIDAGEYR\", \"RIAGENDRx\"]].dropna()\n",
        "data[\"agegrp\"] = pd.cut(data.RIDAGEYR, [18, 30, 40, 50, 60, 70, 80])\n",
        "data.groupby([\"agegrp\", \"RIAGENDRx\"])[\"BMXBMI\"].agg(np.std).unstack()"
      ],
      "metadata": {
        "colab": {
          "base_uri": "https://localhost:8080/",
          "height": 269
        },
        "id": "hpH-paIqby0C",
        "outputId": "18d5c588-8d6d-4fad-efe9-e63d07be3165"
      },
      "execution_count": null,
      "outputs": [
        {
          "output_type": "execute_result",
          "data": {
            "text/plain": [
              "RIAGENDRx    Female      Male\n",
              "agegrp                       \n",
              "(18, 30]   7.745893  6.649440\n",
              "(30, 40]   8.315608  6.622412\n",
              "(40, 50]   8.076195  6.407076\n",
              "(50, 60]   7.575848  5.914373\n",
              "(60, 70]   7.604514  5.933307\n",
              "(70, 80]   6.284968  4.974855"
            ],
            "text/html": [
              "\n",
              "\n",
              "  <div id=\"df-dd447595-1019-4c0b-99db-236bcc8f52ed\">\n",
              "    <div class=\"colab-df-container\">\n",
              "      <div>\n",
              "<style scoped>\n",
              "    .dataframe tbody tr th:only-of-type {\n",
              "        vertical-align: middle;\n",
              "    }\n",
              "\n",
              "    .dataframe tbody tr th {\n",
              "        vertical-align: top;\n",
              "    }\n",
              "\n",
              "    .dataframe thead th {\n",
              "        text-align: right;\n",
              "    }\n",
              "</style>\n",
              "<table border=\"1\" class=\"dataframe\">\n",
              "  <thead>\n",
              "    <tr style=\"text-align: right;\">\n",
              "      <th>RIAGENDRx</th>\n",
              "      <th>Female</th>\n",
              "      <th>Male</th>\n",
              "    </tr>\n",
              "    <tr>\n",
              "      <th>agegrp</th>\n",
              "      <th></th>\n",
              "      <th></th>\n",
              "    </tr>\n",
              "  </thead>\n",
              "  <tbody>\n",
              "    <tr>\n",
              "      <th>(18, 30]</th>\n",
              "      <td>7.745893</td>\n",
              "      <td>6.649440</td>\n",
              "    </tr>\n",
              "    <tr>\n",
              "      <th>(30, 40]</th>\n",
              "      <td>8.315608</td>\n",
              "      <td>6.622412</td>\n",
              "    </tr>\n",
              "    <tr>\n",
              "      <th>(40, 50]</th>\n",
              "      <td>8.076195</td>\n",
              "      <td>6.407076</td>\n",
              "    </tr>\n",
              "    <tr>\n",
              "      <th>(50, 60]</th>\n",
              "      <td>7.575848</td>\n",
              "      <td>5.914373</td>\n",
              "    </tr>\n",
              "    <tr>\n",
              "      <th>(60, 70]</th>\n",
              "      <td>7.604514</td>\n",
              "      <td>5.933307</td>\n",
              "    </tr>\n",
              "    <tr>\n",
              "      <th>(70, 80]</th>\n",
              "      <td>6.284968</td>\n",
              "      <td>4.974855</td>\n",
              "    </tr>\n",
              "  </tbody>\n",
              "</table>\n",
              "</div>\n",
              "      <button class=\"colab-df-convert\" onclick=\"convertToInteractive('df-dd447595-1019-4c0b-99db-236bcc8f52ed')\"\n",
              "              title=\"Convert this dataframe to an interactive table.\"\n",
              "              style=\"display:none;\">\n",
              "\n",
              "  <svg xmlns=\"http://www.w3.org/2000/svg\" height=\"24px\"viewBox=\"0 0 24 24\"\n",
              "       width=\"24px\">\n",
              "    <path d=\"M0 0h24v24H0V0z\" fill=\"none\"/>\n",
              "    <path d=\"M18.56 5.44l.94 2.06.94-2.06 2.06-.94-2.06-.94-.94-2.06-.94 2.06-2.06.94zm-11 1L8.5 8.5l.94-2.06 2.06-.94-2.06-.94L8.5 2.5l-.94 2.06-2.06.94zm10 10l.94 2.06.94-2.06 2.06-.94-2.06-.94-.94-2.06-.94 2.06-2.06.94z\"/><path d=\"M17.41 7.96l-1.37-1.37c-.4-.4-.92-.59-1.43-.59-.52 0-1.04.2-1.43.59L10.3 9.45l-7.72 7.72c-.78.78-.78 2.05 0 2.83L4 21.41c.39.39.9.59 1.41.59.51 0 1.02-.2 1.41-.59l7.78-7.78 2.81-2.81c.8-.78.8-2.07 0-2.86zM5.41 20L4 18.59l7.72-7.72 1.47 1.35L5.41 20z\"/>\n",
              "  </svg>\n",
              "      </button>\n",
              "\n",
              "\n",
              "\n",
              "    <div id=\"df-bc4d07f4-8935-44f5-aad2-00b47c47445f\">\n",
              "      <button class=\"colab-df-quickchart\" onclick=\"quickchart('df-bc4d07f4-8935-44f5-aad2-00b47c47445f')\"\n",
              "              title=\"Suggest charts.\"\n",
              "              style=\"display:none;\">\n",
              "\n",
              "<svg xmlns=\"http://www.w3.org/2000/svg\" height=\"24px\"viewBox=\"0 0 24 24\"\n",
              "     width=\"24px\">\n",
              "    <g>\n",
              "        <path d=\"M19 3H5c-1.1 0-2 .9-2 2v14c0 1.1.9 2 2 2h14c1.1 0 2-.9 2-2V5c0-1.1-.9-2-2-2zM9 17H7v-7h2v7zm4 0h-2V7h2v10zm4 0h-2v-4h2v4z\"/>\n",
              "    </g>\n",
              "</svg>\n",
              "      </button>\n",
              "    </div>\n",
              "\n",
              "<style>\n",
              "  .colab-df-quickchart {\n",
              "    background-color: #E8F0FE;\n",
              "    border: none;\n",
              "    border-radius: 50%;\n",
              "    cursor: pointer;\n",
              "    display: none;\n",
              "    fill: #1967D2;\n",
              "    height: 32px;\n",
              "    padding: 0 0 0 0;\n",
              "    width: 32px;\n",
              "  }\n",
              "\n",
              "  .colab-df-quickchart:hover {\n",
              "    background-color: #E2EBFA;\n",
              "    box-shadow: 0px 1px 2px rgba(60, 64, 67, 0.3), 0px 1px 3px 1px rgba(60, 64, 67, 0.15);\n",
              "    fill: #174EA6;\n",
              "  }\n",
              "\n",
              "  [theme=dark] .colab-df-quickchart {\n",
              "    background-color: #3B4455;\n",
              "    fill: #D2E3FC;\n",
              "  }\n",
              "\n",
              "  [theme=dark] .colab-df-quickchart:hover {\n",
              "    background-color: #434B5C;\n",
              "    box-shadow: 0px 1px 3px 1px rgba(0, 0, 0, 0.15);\n",
              "    filter: drop-shadow(0px 1px 2px rgba(0, 0, 0, 0.3));\n",
              "    fill: #FFFFFF;\n",
              "  }\n",
              "</style>\n",
              "\n",
              "    <script>\n",
              "      async function quickchart(key) {\n",
              "        const containerElement = document.querySelector('#' + key);\n",
              "        const charts = await google.colab.kernel.invokeFunction(\n",
              "            'suggestCharts', [key], {});\n",
              "      }\n",
              "    </script>\n",
              "\n",
              "      <script>\n",
              "\n",
              "function displayQuickchartButton(domScope) {\n",
              "  let quickchartButtonEl =\n",
              "    domScope.querySelector('#df-bc4d07f4-8935-44f5-aad2-00b47c47445f button.colab-df-quickchart');\n",
              "  quickchartButtonEl.style.display =\n",
              "    google.colab.kernel.accessAllowed ? 'block' : 'none';\n",
              "}\n",
              "\n",
              "        displayQuickchartButton(document);\n",
              "      </script>\n",
              "      <style>\n",
              "    .colab-df-container {\n",
              "      display:flex;\n",
              "      flex-wrap:wrap;\n",
              "      gap: 12px;\n",
              "    }\n",
              "\n",
              "    .colab-df-convert {\n",
              "      background-color: #E8F0FE;\n",
              "      border: none;\n",
              "      border-radius: 50%;\n",
              "      cursor: pointer;\n",
              "      display: none;\n",
              "      fill: #1967D2;\n",
              "      height: 32px;\n",
              "      padding: 0 0 0 0;\n",
              "      width: 32px;\n",
              "    }\n",
              "\n",
              "    .colab-df-convert:hover {\n",
              "      background-color: #E2EBFA;\n",
              "      box-shadow: 0px 1px 2px rgba(60, 64, 67, 0.3), 0px 1px 3px 1px rgba(60, 64, 67, 0.15);\n",
              "      fill: #174EA6;\n",
              "    }\n",
              "\n",
              "    [theme=dark] .colab-df-convert {\n",
              "      background-color: #3B4455;\n",
              "      fill: #D2E3FC;\n",
              "    }\n",
              "\n",
              "    [theme=dark] .colab-df-convert:hover {\n",
              "      background-color: #434B5C;\n",
              "      box-shadow: 0px 1px 3px 1px rgba(0, 0, 0, 0.15);\n",
              "      filter: drop-shadow(0px 1px 2px rgba(0, 0, 0, 0.3));\n",
              "      fill: #FFFFFF;\n",
              "    }\n",
              "  </style>\n",
              "\n",
              "      <script>\n",
              "        const buttonEl =\n",
              "          document.querySelector('#df-dd447595-1019-4c0b-99db-236bcc8f52ed button.colab-df-convert');\n",
              "        buttonEl.style.display =\n",
              "          google.colab.kernel.accessAllowed ? 'block' : 'none';\n",
              "\n",
              "        async function convertToInteractive(key) {\n",
              "          const element = document.querySelector('#df-dd447595-1019-4c0b-99db-236bcc8f52ed');\n",
              "          const dataTable =\n",
              "            await google.colab.kernel.invokeFunction('convertToInteractive',\n",
              "                                                     [key], {});\n",
              "          if (!dataTable) return;\n",
              "\n",
              "          const docLinkHtml = 'Like what you see? Visit the ' +\n",
              "            '<a target=\"_blank\" href=https://colab.research.google.com/notebooks/data_table.ipynb>data table notebook</a>'\n",
              "            + ' to learn more about interactive tables.';\n",
              "          element.innerHTML = '';\n",
              "          dataTable['output_type'] = 'display_data';\n",
              "          await google.colab.output.renderOutput(dataTable, element);\n",
              "          const docLink = document.createElement('div');\n",
              "          docLink.innerHTML = docLinkHtml;\n",
              "          element.appendChild(docLink);\n",
              "        }\n",
              "      </script>\n",
              "    </div>\n",
              "  </div>\n"
            ]
          },
          "metadata": {},
          "execution_count": 28
        }
      ]
    },
    {
      "cell_type": "code",
      "source": [
        "for k, v in data.groupby(\"agegrp\"):\n",
        "    bmi_female = v.loc[v.RIAGENDRx==\"Female\", \"BMXBMI\"].dropna()\n",
        "    bmi_female = sm.stats.DescrStatsW(bmi_female)\n",
        "    bmi_male = v.loc[v.RIAGENDRx==\"Male\", \"BMXBMI\"].dropna()\n",
        "    bmi_male = sm.stats.DescrStatsW(bmi_male)\n",
        "    print(k)\n",
        "    print(\"pooled: \", sm.stats.CompareMeans(bmi_female, bmi_male).ztest_ind(usevar='pooled'))\n",
        "    print(\"unequal:\", sm.stats.CompareMeans(bmi_female, bmi_male).ztest_ind(usevar='unequal'))\n",
        "    print()"
      ],
      "metadata": {
        "colab": {
          "base_uri": "https://localhost:8080/"
        },
        "id": "8xXpPh4Ub2cZ",
        "outputId": "c2f5d219-e379-4693-a555-5d983e4c2f45"
      },
      "execution_count": null,
      "outputs": [
        {
          "output_type": "stream",
          "name": "stdout",
          "text": [
            "(18, 30]\n",
            "pooled:  (1.7026932933643388, 0.08862548061449649)\n",
            "unequal: (1.7174610823927268, 0.08589495934713022)\n",
            "\n",
            "(30, 40]\n",
            "pooled:  (1.4378280405644916, 0.1504828511464818)\n",
            "unequal: (1.4437869620833494, 0.14879891057892475)\n",
            "\n",
            "(40, 50]\n",
            "pooled:  (2.8933761158070186, 0.003811246059501354)\n",
            "unequal: (2.9678691663536725, 0.0029987194174035366)\n",
            "\n",
            "(50, 60]\n",
            "pooled:  (3.362108779981367, 0.0007734964571391746)\n",
            "unequal: (3.375494390173923, 0.0007368319423226574)\n",
            "\n",
            "(60, 70]\n",
            "pooled:  (3.6172401442432753, 0.000297761021031936)\n",
            "unequal: (3.62848309454456, 0.0002850914147149227)\n",
            "\n",
            "(70, 80]\n",
            "pooled:  (2.926729252512258, 0.0034254694144858636)\n",
            "unequal: (2.937779886769224, 0.003305716331519299)\n",
            "\n"
          ]
        }
      ]
    },
    {
      "cell_type": "code",
      "source": [],
      "metadata": {
        "id": "PROWSY6lb6mc"
      },
      "execution_count": null,
      "outputs": []
    }
  ]
}